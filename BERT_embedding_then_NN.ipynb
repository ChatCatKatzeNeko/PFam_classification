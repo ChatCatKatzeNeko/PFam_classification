{
 "cells": [
  {
   "cell_type": "markdown",
   "metadata": {},
   "source": [
    "This is another approch to tackle the protein classification problem, this time using deep learning algorithms. The main idea here is to make use of pre-trained protein language model for amino acid embedding. \n",
    "\n",
    "I use the BERT-based protein language model which embeds an amino acid into a float vector of length 768, a model that achieves promising results in several tasks, as described in the article by Rao et al [\\[1\\]](https://arxiv.org/abs/1906.08230). Since it is Transformer-based, this model and similar have an attention mechanism and may contain richer information about a given amino acid and those to which it pays attention (Vig et al [\\[2\\]](https://arxiv.org/abs/2006.15222)). This will be interesting for the current study since such embedding allows to implicitly include some kind of positional information.\n",
    "\n",
    "The embedding is done on amino acid level but not at the sequence level. In this study, I would like to test 3 ways of vectorising a sequence starting from the BERT-based protein language model embedding:\n",
    "1. the sequence is represented by taking average of the amino acid vectors that compose it, hence is of the same length (768);\n",
    "2. by passing the sequence into an LSTM model, the sequence can be represented by the last hidden state. The length of the sequence representation is then the hidden state dimension of the LSTM model, to be defined by the user;\n",
    "3. similar to 2, but instead of LSTM, an 1D-CNN is used to capture information of the whole sequence, in this case the dimension of final representation vector will depend on the kernel size, the padding size and the stride.\n",
    "\n",
    "The vector representation of the sequences are the input of a dense neural network that is trained predict to which family the protein belongs."
   ]
  },
  {
   "cell_type": "code",
   "execution_count": 1,
   "metadata": {},
   "outputs": [
    {
     "name": "stdout",
     "output_type": "stream",
     "text": [
      "No GPU available, using the CPU instead.\n"
     ]
    }
   ],
   "source": [
    "import sys\n",
    "sys.path.append('./pkg')\n",
    "from Models import *\n",
    "from DataProcessingHelper import *"
   ]
  },
  {
   "cell_type": "code",
   "execution_count": 2,
   "metadata": {},
   "outputs": [],
   "source": [
    "import gc\n",
    "import matplotlib.pyplot as plt"
   ]
  },
  {
   "cell_type": "code",
   "execution_count": 3,
   "metadata": {},
   "outputs": [],
   "source": [
    "# read samples of train data\n",
    "PATH_TO_TRAIN = '../data/train/'\n",
    "train = read_datafiles(PATH_TO_TRAIN)\n",
    "\n",
    "# read samples of dev data\n",
    "PATH_TO_DEV = '../data/dev/'\n",
    "dev = read_datafiles(PATH_TO_DEV)\n",
    "\n",
    "# read samples of test data\n",
    "PATH_TO_TEST = '../data/test/'\n",
    "test = read_datafiles(PATH_TO_TEST)"
   ]
  },
  {
   "cell_type": "code",
   "execution_count": 4,
   "metadata": {},
   "outputs": [],
   "source": [
    "# again like the \"feature engineering\" part, I only focus on the most populated classes\n",
    "# composing more than a half of the training set and are mutual in the 3 sets of data\n",
    "\n",
    "trainClasses = set(train.family_accession.unique())\n",
    "devClasses = set(dev.family_accession.unique())\n",
    "testClasses = set(test.family_accession.unique())\n",
    "onlyTrain = trainClasses.difference(devClasses)\n",
    "train = train.loc[~train.family_accession.isin(onlyTrain)]\n",
    "# class occurence counts\n",
    "countFreq = train.family_accession.value_counts()\n",
    "cumsum = countFreq.values.cumsum()\n",
    "cumsumN = cumsum / cumsum.max()\n",
    "\n",
    "mostPopular = countFreq.index[:10]\n",
    "#mostPopular = countFreq.index[:np.where(cumsumN>=0.5)[0][0]]\n",
    "#print(\"%d classes represent more than a half of the training data.\" % len(mostPopular))"
   ]
  },
  {
   "cell_type": "code",
   "execution_count": 5,
   "metadata": {},
   "outputs": [],
   "source": [
    "trainSub = train.loc[train.family_accession.isin(mostPopular)]\n",
    "testSub = test.loc[test.family_accession.isin(mostPopular)]\n",
    "devSub = dev.loc[dev.family_accession.isin(mostPopular)]"
   ]
  },
  {
   "cell_type": "code",
   "execution_count": 6,
   "metadata": {},
   "outputs": [],
   "source": [
    "# save my poor 16G ram\n",
    "del train, test, dev, trainClasses, testClasses, devClasses\n",
    "_ = gc.collect()"
   ]
  },
  {
   "cell_type": "code",
   "execution_count": 7,
   "metadata": {},
   "outputs": [],
   "source": [
    "# vectorisation\n",
    "# - word lvl: OK by pBert\n",
    "# - sequence lvl: \n",
    "#   1. simple mean (bench mark)\n",
    "#   2. final hidden state of an LSTM\n",
    "#   3. 1D Conv (if I have had more resources (time, teammates, machine)...)\n",
    "# classification\n",
    "#   input the vectorised sequence to a dense NN"
   ]
  },
  {
   "cell_type": "code",
   "execution_count": 8,
   "metadata": {},
   "outputs": [
    {
     "data": {
      "image/png": "[encoded data removed]",
      "text/plain": [
       "<Figure size 1080x360 with 3 Axes>"
      ]
     },
     "metadata": {
      "needs_background": "light"
     },
     "output_type": "display_data"
    }
   ],
   "source": [
    "trainSeqLens = trainSub.sequence.apply(len)\n",
    "testSeqLens = testSub.sequence.apply(len)\n",
    "devSeqLens = devSub.sequence.apply(len)\n",
    "\n",
    "fig,axes = plt.subplots(ncols=3,nrows=1,figsize=(15,5))\n",
    "axes[0].hist(trainSeqLens, bins=100, density=True)\n",
    "axes[0].set_title('sequence length distribution (train)')\n",
    "axes[1].hist(testSeqLens, bins=100, density=True)\n",
    "axes[1].set_title('sequence length distribution (test)')\n",
    "axes[2].hist(devSeqLens, bins=100, density=True)\n",
    "axes[2].set_title('sequence length distribution (dev)')\n",
    "plt.show()"
   ]
  },
  {
   "cell_type": "code",
   "execution_count": 9,
   "metadata": {},
   "outputs": [],
   "source": [
    "# for the rest of the study, I will constraint the sequence length to be 250\n",
    "MAX_LEN = 250"
   ]
  },
  {
   "cell_type": "code",
   "execution_count": 10,
   "metadata": {},
   "outputs": [],
   "source": [
    "# global vars / config\n",
    "BATCH_SIZE = 32\n",
    "NB_LABELS = trainSub.family_accession.nunique()\n",
    "NB_EPOCHS = 3\n",
    "\n",
    "NN_HIDDEN_SIZE = 100"
   ]
  },
  {
   "cell_type": "markdown",
   "metadata": {},
   "source": [
    "### preparation for training models..."
   ]
  },
  {
   "cell_type": "code",
   "execution_count": 11,
   "metadata": {},
   "outputs": [],
   "source": [
    "# numerise string labels\n",
    "numLabelDict = {lab:i for i,lab in enumerate(trainSub.family_accession.unique())}\n",
    "\n",
    "trainSub.insert(0,'label',value=trainSub.family_accession.apply(lambda x:numLabelDict[x]))\n",
    "testSub.insert(0,'label',value=testSub.family_accession.apply(lambda x:numLabelDict[x]))\n",
    "devSub.insert(0,'label',value=devSub.family_accession.apply(lambda x:numLabelDict[x]))"
   ]
  },
  {
   "cell_type": "code",
   "execution_count": 12,
   "metadata": {},
   "outputs": [],
   "source": [
    "# convert other data types to torch.Tensor\n",
    "trainLabels = torch.tensor(trainSub.label.values)\n",
    "devLabels = torch.tensor(devSub.label.values)\n",
    "testLabels = torch.tensor(testSub.label.values)"
   ]
  },
  {
   "cell_type": "code",
   "execution_count": 13,
   "metadata": {},
   "outputs": [],
   "source": [
    "# prepare training data\n",
    "trainTokensIdx = prepare_data(trainSub.sequence.values, maxLen=MAX_LEN)\n",
    "trainData = create_data_loader(trainTokensIdx, trainLabels, batchSize=BATCH_SIZE)"
   ]
  },
  {
   "cell_type": "code",
   "execution_count": 14,
   "metadata": {},
   "outputs": [],
   "source": [
    "# prepare test data\n",
    "testTokensIdx = prepare_data(testSub.sequence.values, maxLen=MAX_LEN)\n",
    "testData = create_data_loader(testTokensIdx, testLabels, batchSize=BATCH_SIZE)"
   ]
  },
  {
   "cell_type": "code",
   "execution_count": null,
   "metadata": {},
   "outputs": [],
   "source": []
  },
  {
   "cell_type": "markdown",
   "metadata": {},
   "source": [
    "## Deep learning models"
   ]
  },
  {
   "cell_type": "markdown",
   "metadata": {},
   "source": [
    "### vectorise the sequence by taking mean of all words from bert embedding"
   ]
  },
  {
   "cell_type": "code",
   "execution_count": 17,
   "metadata": {},
   "outputs": [],
   "source": [
    "meanClassifier = MeanNNClassifier(nbLabels=NB_LABELS, nnHiddenSize=NN_HIDDEN_SIZE)\n",
    "meanClassifier, optimizer, scheduler = initialize_classifier(meanClassifier,\n",
    "                                                             batchSize=BATCH_SIZE,\n",
    "                                                             epochs=NB_EPOCHS)"
   ]
  },
  {
   "cell_type": "code",
   "execution_count": 18,
   "metadata": {},
   "outputs": [
    {
     "name": "stdout",
     "output_type": "stream",
     "text": [
      "Start training...\n",
      "\n",
      " Epoch  |  Batch  |  Train Loss  |  Val Loss  |  Val Acc  |  Elapsed \n",
      "----------------------------------------------------------------------\n",
      "   1    |   10    |   1.806408   |     -      |     -     |  224.59  \n",
      "   1    |   20    |   1.101012   |     -      |     -     |  204.13  \n",
      "   1    |   30    |   0.763870   |     -      |     -     |  204.43  \n",
      "   1    |   40    |   0.628354   |     -      |     -     |  204.66  \n",
      "   1    |   50    |   0.529015   |     -      |     -     |  204.82  \n",
      "   1    |   60    |   0.458696   |     -      |     -     |  203.91  \n",
      "   1    |   70    |   0.367525   |     -      |     -     |  203.21  \n",
      "   1    |   80    |   0.386059   |     -      |     -     |  204.00  \n",
      "   1    |   90    |   0.377988   |     -      |     -     |  203.68  \n",
      "   1    |   100   |   0.356032   |     -      |     -     |  205.35  \n",
      "   1    |   110   |   0.377124   |     -      |     -     |  203.67  \n",
      "   1    |   120   |   0.371601   |     -      |     -     |  204.01  \n",
      "   1    |   130   |   0.314525   |     -      |     -     |  205.15  \n",
      "   1    |   140   |   0.387224   |     -      |     -     |  205.84  \n",
      "   1    |   150   |   0.367991   |     -      |     -     |  204.14  \n",
      "   1    |   160   |   0.380503   |     -      |     -     |  203.97  \n",
      "   1    |   170   |   0.328092   |     -      |     -     |  203.96  \n",
      "   1    |   180   |   0.317965   |     -      |     -     |  204.37  \n",
      "   1    |   190   |   0.314813   |     -      |     -     |  204.16  \n",
      "   1    |   200   |   0.377498   |     -      |     -     |  204.48  \n",
      "   1    |   210   |   0.373370   |     -      |     -     |  205.05  \n",
      "   1    |   220   |   0.386675   |     -      |     -     |  204.60  \n",
      "   1    |   230   |   0.384658   |     -      |     -     |  204.34  \n",
      "   1    |   240   |   0.343531   |     -      |     -     |  204.22  \n",
      "   1    |   250   |   0.317991   |     -      |     -     |  204.33  \n",
      "   1    |   260   |   0.368353   |     -      |     -     |  204.25  \n",
      "   1    |   270   |   0.376806   |     -      |     -     |  204.63  \n",
      "   1    |   280   |   0.360401   |     -      |     -     |  204.46  \n",
      "   1    |   290   |   0.326945   |     -      |     -     |  204.60  \n",
      "   1    |   300   |   0.350972   |     -      |     -     |  204.22  \n",
      "   1    |   310   |   0.385691   |     -      |     -     |  204.03  \n",
      "   1    |   320   |   0.376002   |     -      |     -     |  204.27  \n",
      "   1    |   330   |   0.375421   |     -      |     -     |  204.42  \n",
      "   1    |   340   |   0.340922   |     -      |     -     |  204.08  \n",
      "   1    |   350   |   0.364830   |     -      |     -     |  203.88  \n",
      "   1    |   360   |   0.346912   |     -      |     -     |  204.37  \n",
      "   1    |   370   |   0.369509   |     -      |     -     |  204.41  \n",
      "   1    |   380   |   0.378734   |     -      |     -     |  204.20  \n",
      "   1    |   390   |   0.350485   |     -      |     -     |  204.53  \n",
      "   1    |   400   |   0.325569   |     -      |     -     |  204.45  \n",
      "   1    |   410   |   0.394040   |     -      |     -     |  204.17  \n",
      "   1    |   420   |   0.338457   |     -      |     -     |  204.29  \n",
      "   1    |   430   |   0.356464   |     -      |     -     |  204.14  \n",
      "   1    |   440   |   0.366877   |     -      |     -     |  204.34  \n",
      "   1    |   450   |   0.350610   |     -      |     -     |  205.48  \n",
      "   1    |   460   |   0.350558   |     -      |     -     |  204.90  \n",
      "   1    |   470   |   0.347463   |     -      |     -     |  204.04  \n",
      "   1    |   480   |   0.340844   |     -      |     -     |  204.30  \n",
      "   1    |   490   |   0.355096   |     -      |     -     |  204.29  \n",
      "   1    |   500   |   0.383296   |     -      |     -     |  204.78  \n",
      "   1    |   510   |   0.369210   |     -      |     -     |  205.00  \n",
      "   1    |   520   |   0.388302   |     -      |     -     |  204.53  \n",
      "   1    |   530   |   0.319078   |     -      |     -     |  187.98  \n",
      "----------------------------------------------------------------------\n",
      "   1    |    -    |   0.421036   |  0.297164  |   96.50   | 12080.69 \n",
      "----------------------------------------------------------------------\n",
      "\n",
      "\n",
      " Epoch  |  Batch  |  Train Loss  |  Val Loss  |  Val Acc  |  Elapsed \n",
      "----------------------------------------------------------------------\n",
      "   2    |   10    |   0.363056   |     -      |     -     |  224.29  \n",
      "   2    |   20    |   0.359487   |     -      |     -     |  204.39  \n",
      "   2    |   30    |   0.345322   |     -      |     -     |  203.75  \n",
      "   2    |   40    |   0.344193   |     -      |     -     |  203.94  \n",
      "   2    |   50    |   0.360200   |     -      |     -     |  203.58  \n",
      "   2    |   60    |   0.387657   |     -      |     -     |  203.95  \n",
      "   2    |   70    |   0.362997   |     -      |     -     |  201.13  \n",
      "   2    |   80    |   0.365597   |     -      |     -     |  203.59  \n",
      "   2    |   90    |   0.368355   |     -      |     -     |  203.81  \n",
      "   2    |   100   |   0.367266   |     -      |     -     |  203.92  \n",
      "   2    |   110   |   0.335374   |     -      |     -     |  204.35  \n",
      "   2    |   120   |   0.346822   |     -      |     -     |  204.18  \n",
      "   2    |   130   |   0.353025   |     -      |     -     |  203.95  \n",
      "   2    |   140   |   0.353058   |     -      |     -     |  204.01  \n",
      "   2    |   150   |   0.351485   |     -      |     -     |  203.93  \n",
      "   2    |   160   |   0.323654   |     -      |     -     |  203.93  \n",
      "   2    |   170   |   0.357287   |     -      |     -     |  203.90  \n",
      "   2    |   180   |   0.327057   |     -      |     -     |  203.93  \n",
      "   2    |   190   |   0.381933   |     -      |     -     |  204.00  \n",
      "   2    |   200   |   0.416302   |     -      |     -     |  204.23  \n",
      "   2    |   210   |   0.333058   |     -      |     -     |  204.05  \n",
      "   2    |   220   |   0.344811   |     -      |     -     |  203.58  \n",
      "   2    |   230   |   0.365994   |     -      |     -     |  203.76  \n",
      "   2    |   240   |   0.342137   |     -      |     -     |  204.06  \n",
      "   2    |   250   |   0.389048   |     -      |     -     |  203.96  \n",
      "   2    |   260   |   0.313873   |     -      |     -     |  204.65  \n",
      "   2    |   270   |   0.378788   |     -      |     -     |  203.94  \n",
      "   2    |   280   |   0.379077   |     -      |     -     |  195.89  \n",
      "   2    |   290   |   0.344367   |     -      |     -     |  202.61  \n",
      "   2    |   300   |   0.339118   |     -      |     -     |  204.34  \n",
      "   2    |   310   |   0.340767   |     -      |     -     |  204.10  \n",
      "   2    |   320   |   0.328755   |     -      |     -     |  204.04  \n",
      "   2    |   330   |   0.343652   |     -      |     -     |  203.98  \n",
      "   2    |   340   |   0.362971   |     -      |     -     |  206.56  \n",
      "   2    |   350   |   0.372048   |     -      |     -     |  204.38  \n",
      "   2    |   360   |   0.406913   |     -      |     -     |  203.82  \n",
      "   2    |   370   |   0.342010   |     -      |     -     |  194.34  \n",
      "   2    |   380   |   0.394906   |     -      |     -     |  203.52  \n",
      "   2    |   390   |   0.352307   |     -      |     -     |  204.21  \n",
      "   2    |   400   |   0.335420   |     -      |     -     |  203.96  \n",
      "   2    |   410   |   0.355124   |     -      |     -     |  204.12  \n",
      "   2    |   420   |   0.362502   |     -      |     -     |  204.33  \n",
      "   2    |   430   |   0.372990   |     -      |     -     |  204.16  \n",
      "   2    |   440   |   0.391569   |     -      |     -     |  203.81  \n",
      "   2    |   450   |   0.363689   |     -      |     -     |  204.01  \n",
      "   2    |   460   |   0.332796   |     -      |     -     |  202.13  \n",
      "   2    |   470   |   0.360290   |     -      |     -     |  203.90  \n",
      "   2    |   480   |   0.344992   |     -      |     -     |  204.35  \n",
      "   2    |   490   |   0.366797   |     -      |     -     |  203.85  \n",
      "   2    |   500   |   0.364214   |     -      |     -     |  204.11  \n",
      "   2    |   510   |   0.338412   |     -      |     -     |  204.16  \n",
      "   2    |   520   |   0.344077   |     -      |     -     |  203.86  \n",
      "   2    |   530   |   0.338818   |     -      |     -     |  187.38  \n",
      "----------------------------------------------------------------------\n",
      "   2    |    -    |   0.356925   |  0.292193  |   96.50   | 12041.94 \n",
      "----------------------------------------------------------------------\n",
      "\n",
      "\n",
      " Epoch  |  Batch  |  Train Loss  |  Val Loss  |  Val Acc  |  Elapsed \n",
      "----------------------------------------------------------------------\n"
     ]
    },
    {
     "name": "stdout",
     "output_type": "stream",
     "text": [
      "   3    |   10    |   0.339398   |     -      |     -     |  224.54  \n",
      "   3    |   20    |   0.316229   |     -      |     -     |  203.93  \n",
      "   3    |   30    |   0.328998   |     -      |     -     |  203.93  \n",
      "   3    |   40    |   0.348227   |     -      |     -     |  203.92  \n",
      "   3    |   50    |   0.325633   |     -      |     -     |  203.98  \n",
      "   3    |   60    |   0.300650   |     -      |     -     |  204.25  \n",
      "   3    |   70    |   0.349090   |     -      |     -     |  203.88  \n",
      "   3    |   80    |   0.334077   |     -      |     -     |  204.49  \n",
      "   3    |   90    |   0.352393   |     -      |     -     |  204.13  \n",
      "   3    |   100   |   0.327368   |     -      |     -     |  203.99  \n",
      "   3    |   110   |   0.377704   |     -      |     -     |  205.59  \n",
      "   3    |   120   |   0.364730   |     -      |     -     |  204.11  \n",
      "   3    |   130   |   0.334627   |     -      |     -     |  203.81  \n",
      "   3    |   140   |   0.346548   |     -      |     -     |  203.43  \n",
      "   3    |   150   |   0.352276   |     -      |     -     |  203.90  \n",
      "   3    |   160   |   0.378905   |     -      |     -     |  204.23  \n",
      "   3    |   170   |   0.387546   |     -      |     -     |  204.31  \n",
      "   3    |   180   |   0.399629   |     -      |     -     |  204.26  \n",
      "   3    |   190   |   0.322897   |     -      |     -     |  204.09  \n",
      "   3    |   200   |   0.351154   |     -      |     -     |  204.12  \n",
      "   3    |   210   |   0.403966   |     -      |     -     |  203.99  \n",
      "   3    |   220   |   0.344758   |     -      |     -     |  199.21  \n",
      "   3    |   230   |   0.378867   |     -      |     -     |  195.48  \n",
      "   3    |   240   |   0.351501   |     -      |     -     |  204.21  \n",
      "   3    |   250   |   0.405841   |     -      |     -     |  204.21  \n",
      "   3    |   260   |   0.359265   |     -      |     -     |  204.19  \n",
      "   3    |   270   |   0.321824   |     -      |     -     |  206.66  \n",
      "   3    |   280   |   0.360190   |     -      |     -     |  203.95  \n",
      "   3    |   290   |   0.329307   |     -      |     -     |  204.17  \n",
      "   3    |   300   |   0.379247   |     -      |     -     |  204.20  \n",
      "   3    |   310   |   0.377219   |     -      |     -     |  204.04  \n",
      "   3    |   320   |   0.365003   |     -      |     -     |  204.01  \n",
      "   3    |   330   |   0.373675   |     -      |     -     |  204.50  \n",
      "   3    |   340   |   0.310064   |     -      |     -     |  204.04  \n",
      "   3    |   350   |   0.340979   |     -      |     -     |  204.17  \n",
      "   3    |   360   |   0.316677   |     -      |     -     |  204.09  \n",
      "   3    |   370   |   0.346679   |     -      |     -     |  204.30  \n",
      "   3    |   380   |   0.406623   |     -      |     -     |  204.18  \n",
      "   3    |   390   |   0.397131   |     -      |     -     |  204.08  \n",
      "   3    |   400   |   0.342399   |     -      |     -     |  203.75  \n",
      "   3    |   410   |   0.354212   |     -      |     -     |  204.19  \n",
      "   3    |   420   |   0.340466   |     -      |     -     |  203.88  \n",
      "   3    |   430   |   0.334664   |     -      |     -     |  203.93  \n",
      "   3    |   440   |   0.385963   |     -      |     -     |  203.74  \n",
      "   3    |   450   |   0.348019   |     -      |     -     |  203.94  \n",
      "   3    |   460   |   0.396276   |     -      |     -     |  199.05  \n",
      "   3    |   470   |   0.402619   |     -      |     -     |  202.37  \n",
      "   3    |   480   |   0.350403   |     -      |     -     |  204.08  \n",
      "   3    |   490   |   0.366045   |     -      |     -     |  203.70  \n",
      "   3    |   500   |   0.365317   |     -      |     -     |  204.51  \n",
      "   3    |   510   |   0.337430   |     -      |     -     |  203.79  \n",
      "   3    |   520   |   0.393576   |     -      |     -     |  208.68  \n",
      "   3    |   530   |   0.439548   |     -      |     -     |  187.23  \n",
      "----------------------------------------------------------------------\n",
      "   3    |    -    |   0.357774   |  0.303053  |   95.80   | 12053.16 \n",
      "----------------------------------------------------------------------\n",
      "\n",
      "\n",
      "Training complete!\n"
     ]
    }
   ],
   "source": [
    "train_model(meanClassifier, optimizer, scheduler, trainData, testData)"
   ]
  },
  {
   "cell_type": "code",
   "execution_count": null,
   "metadata": {},
   "outputs": [],
   "source": [
    "#evaluate_model(meanClassifier,testData)"
   ]
  },
  {
   "cell_type": "code",
   "execution_count": null,
   "metadata": {},
   "outputs": [],
   "source": []
  },
  {
   "cell_type": "markdown",
   "metadata": {},
   "source": [
    "### represent the sequence by the last hidden state of an LSTM"
   ]
  },
  {
   "cell_type": "code",
   "execution_count": null,
   "metadata": {},
   "outputs": [],
   "source": [
    "lstmClassifier = LstmNNClassifier(nbLabels=NB_LABELS, nnHiddenSize=NN_HIDDEN_SIZE,\n",
    "                                  lstmHiddenSize=500)\n",
    "lstmClassifier, optimizer, scheduler = initialize_classifier(lstmClassifier,\n",
    "                                                             batchSize=BATCH_SIZE,\n",
    "                                                             epochs=NB_EPOCHS)"
   ]
  },
  {
   "cell_type": "code",
   "execution_count": null,
   "metadata": {
    "scrolled": true
   },
   "outputs": [],
   "source": [
    "train_model(lstmClassifier, optimizer, scheduler, trainData, testData)"
   ]
  },
  {
   "cell_type": "code",
   "execution_count": null,
   "metadata": {},
   "outputs": [],
   "source": []
  },
  {
   "cell_type": "code",
   "execution_count": null,
   "metadata": {},
   "outputs": [],
   "source": []
  },
  {
   "cell_type": "markdown",
   "metadata": {},
   "source": [
    "### represent the sequence by an 1D-CNN + Max pooling"
   ]
  },
  {
   "cell_type": "code",
   "execution_count": null,
   "metadata": {},
   "outputs": [],
   "source": [
    "cnnClassifier = CnnNNClassifier(nbLabels=NB_LABELS, sequenceLen=MAX_LEN, nnHiddenSize=NN_HIDDEN_SIZE,\n",
    "                                nbKernels=30, kernelSize=3)\n",
    "cnnClassifier, optimizer, scheduler = initialize_classifier(cnnClassifier,\n",
    "                                                            batchSize=BATCH_SIZE,\n",
    "                                                            epochs=NB_EPOCHS)"
   ]
  },
  {
   "cell_type": "code",
   "execution_count": null,
   "metadata": {},
   "outputs": [],
   "source": [
    "train_model(cnnClassifier, optimizer, scheduler, trainData, testData)"
   ]
  },
  {
   "cell_type": "markdown",
   "metadata": {},
   "source": [
    "The main obstacle for me to complete the study is mainly the number of parametres to be learned compare to the data availability. Let's take a closer look at the first senario, where no parametres to be learned for sequence representation. To train a 1-hidden-layer dense neural network, whose input dimension is 768 and output dimension is about $O(1e5)$, or $O(1e3)$ if we add some constraints on class population. Suppose the hidden layer is of dimension of $O(1e3)$, that gives $768 \\times 1000 + 1000 \\times 1000 = O(1e6)$ trainable model parametres (Note that the training set in its totality contains \"merely\" about $1e6$ records). Not only it demands powerful computational capacity, but also huge amount of labeled training data to have the model be reasonably trained. Let alone the two remaining senarios where even more parametres are needed for the sequence representation. The huge liberty degree of the models can result training failures."
   ]
  }
 ],
 "metadata": {
  "kernelspec": {
   "display_name": "Python 3",
   "language": "python",
   "name": "python3"
  },
  "language_info": {
   "codemirror_mode": {
    "name": "ipython",
    "version": 3
   },
   "file_extension": ".py",
   "mimetype": "text/x-python",
   "name": "python",
   "nbconvert_exporter": "python",
   "pygments_lexer": "ipython3",
   "version": "3.8.7"
  }
 },
 "nbformat": 4,
 "nbformat_minor": 4
}
