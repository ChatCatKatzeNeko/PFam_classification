{
 "cells": [
  {
   "cell_type": "markdown",
   "metadata": {},
   "source": [
    "This is another approch to tackle the protein classification problem, this time using deep learning algorithms. The main idea here is to make use of pre-trained protein language model for amino acid embedding. \n",
    "\n",
    "I use the BERT-based protein language model which embeds an amino acid into a float vector of length 768, a model that achieves promising results in several tasks, as described in the article by Rao et al [\\[1\\]](https://arxiv.org/abs/1906.08230). Since it is Transformer-based, this model and similar have an attention mechanism and may contain richer information about a given amino acid and those to which it pays attention (Vig et al [\\[2\\]](https://arxiv.org/abs/2006.15222)). This will be interesting for the current study since such embedding allows to implicitly include some kind of positional information.\n",
    "\n",
    "The embedding is done on amino acid level but not at the sequence level. In this study, I would like to test 3 ways of vectorising a sequence starting from the BERT-based protein language model embedding:\n",
    "1. the sequence is represented by taking average of the amino acid vectors that compose it, hence is of the same length (768);\n",
    "2. by passing the sequence into an LSTM model, the sequence can be represented by the last hidden state. The length of the sequence representation is then the hidden state dimension of the LSTM model, to be defined by the user;\n",
    "3. similar to 2, but instead of LSTM, an 1D-CNN is used to capture information of the whole sequence, in this case the dimension of final representation vector will depend on the kernel size, the padding size and the stride.\n",
    "\n",
    "The vector representation of the sequences are the input of a dense neural network that is trained predict to which family the protein belongs."
   ]
  },
  {
   "cell_type": "code",
   "execution_count": 1,
   "metadata": {},
   "outputs": [
    {
     "name": "stdout",
     "output_type": "stream",
     "text": [
      "No GPU available, using the CPU instead.\n"
     ]
    }
   ],
   "source": [
    "import sys\n",
    "sys.path.append('./pkg')\n",
    "from Models import *\n",
    "from DataProcessingHelper import *"
   ]
  },
  {
   "cell_type": "code",
   "execution_count": 2,
   "metadata": {},
   "outputs": [],
   "source": [
    "import gc\n",
    "import matplotlib.pyplot as plt"
   ]
  },
  {
   "cell_type": "code",
   "execution_count": 3,
   "metadata": {},
   "outputs": [],
   "source": [
    "# read samples of train data\n",
    "PATH_TO_TRAIN = '../data/train/'\n",
    "train = read_datafiles(PATH_TO_TRAIN)\n",
    "\n",
    "# read samples of dev data\n",
    "PATH_TO_DEV = '../data/dev/'\n",
    "dev = read_datafiles(PATH_TO_DEV)\n",
    "\n",
    "# read samples of test data\n",
    "PATH_TO_TEST = '../data/test/'\n",
    "test = read_datafiles(PATH_TO_TEST)"
   ]
  },
  {
   "cell_type": "code",
   "execution_count": 4,
   "metadata": {},
   "outputs": [],
   "source": [
    "# again like the \"feature engineering\" part, I only focus on the most populated classes\n",
    "# composing more than a half of the training set and are mutual in the 3 sets of data\n",
    "\n",
    "trainClasses = set(train.family_accession.unique())\n",
    "devClasses = set(dev.family_accession.unique())\n",
    "testClasses = set(test.family_accession.unique())\n",
    "onlyTrain = trainClasses.difference(devClasses)\n",
    "train = train.loc[~train.family_accession.isin(onlyTrain)]\n",
    "# class occurence counts\n",
    "countFreq = train.family_accession.value_counts()\n",
    "cumsum = countFreq.values.cumsum()\n",
    "cumsumN = cumsum / cumsum.max()\n",
    "\n",
    "mostPopular = countFreq.index[:10]\n",
    "#mostPopular = countFreq.index[:np.where(cumsumN>=0.5)[0][0]]\n",
    "#print(\"%d classes represent more than a half of the training data.\" % len(mostPopular))"
   ]
  },
  {
   "cell_type": "code",
   "execution_count": 5,
   "metadata": {},
   "outputs": [],
   "source": [
    "trainSub = train.loc[train.family_accession.isin(mostPopular)]\n",
    "testSub = test.loc[test.family_accession.isin(mostPopular)]\n",
    "devSub = dev.loc[dev.family_accession.isin(mostPopular)]"
   ]
  },
  {
   "cell_type": "code",
   "execution_count": 6,
   "metadata": {},
   "outputs": [],
   "source": [
    "# save my poor 16G ram\n",
    "del train, test, dev, trainClasses, testClasses, devClasses\n",
    "_ = gc.collect()"
   ]
  },
  {
   "cell_type": "code",
   "execution_count": 7,
   "metadata": {},
   "outputs": [],
   "source": [
    "# vectorisation\n",
    "# - word lvl: OK by pBert\n",
    "# - sequence lvl: \n",
    "#   1. simple mean (bench mark)\n",
    "#   2. final hidden state of an LSTM\n",
    "#   3. 1D Conv (if I have had more resources (time, teammates, machine)...)\n",
    "# classification\n",
    "#   input the vectorised sequence to a dense NN"
   ]
  },
  {
   "cell_type": "code",
   "execution_count": 8,
   "metadata": {},
   "outputs": [
    {
     "data": {
      "image/png": "[encoded data removed]",
      "text/plain": [
       "<Figure size 1080x360 with 3 Axes>"
      ]
     },
     "metadata": {
      "needs_background": "light"
     },
     "output_type": "display_data"
    }
   ],
   "source": [
    "trainSeqLens = trainSub.sequence.apply(len)\n",
    "testSeqLens = testSub.sequence.apply(len)\n",
    "devSeqLens = devSub.sequence.apply(len)\n",
    "\n",
    "fig,axes = plt.subplots(ncols=3,nrows=1,figsize=(15,5))\n",
    "axes[0].hist(trainSeqLens, bins=100, density=True)\n",
    "axes[0].set_title('sequence length distribution (train)')\n",
    "axes[1].hist(testSeqLens, bins=100, density=True)\n",
    "axes[1].set_title('sequence length distribution (test)')\n",
    "axes[2].hist(devSeqLens, bins=100, density=True)\n",
    "axes[2].set_title('sequence length distribution (dev)')\n",
    "plt.show()"
   ]
  },
  {
   "cell_type": "code",
   "execution_count": 9,
   "metadata": {},
   "outputs": [],
   "source": [
    "# for the rest of the study, I will constraint the sequence length to be 250\n",
    "MAX_LEN = 250"
   ]
  },
  {
   "cell_type": "code",
   "execution_count": 10,
   "metadata": {},
   "outputs": [],
   "source": [
    "# global vars / config\n",
    "BATCH_SIZE = 32\n",
    "NB_LABELS = trainSub.family_accession.nunique()\n",
    "NB_EPOCHS = 3\n",
    "\n",
    "NN_HIDDEN_SIZE = 100"
   ]
  },
  {
   "cell_type": "markdown",
   "metadata": {},
   "source": [
    "### preparation for training models..."
   ]
  },
  {
   "cell_type": "code",
   "execution_count": 11,
   "metadata": {},
   "outputs": [],
   "source": [
    "# numerise string labels\n",
    "numLabelDict = {lab:i for i,lab in enumerate(trainSub.family_accession.unique())}\n",
    "\n",
    "trainSub.insert(0,'label',value=trainSub.family_accession.apply(lambda x:numLabelDict[x]))\n",
    "testSub.insert(0,'label',value=testSub.family_accession.apply(lambda x:numLabelDict[x]))\n",
    "devSub.insert(0,'label',value=devSub.family_accession.apply(lambda x:numLabelDict[x]))"
   ]
  },
  {
   "cell_type": "code",
   "execution_count": 12,
   "metadata": {},
   "outputs": [],
   "source": [
    "# convert other data types to torch.Tensor\n",
    "trainLabels = torch.tensor(trainSub.label.values)\n",
    "devLabels = torch.tensor(devSub.label.values)\n",
    "testLabels = torch.tensor(testSub.label.values)"
   ]
  },
  {
   "cell_type": "code",
   "execution_count": 13,
   "metadata": {},
   "outputs": [],
   "source": [
    "# prepare training data\n",
    "trainTokensIdx = prepare_data(trainSub.sequence.values, maxLen=MAX_LEN)\n",
    "trainData = create_data_loader(trainTokensIdx, trainLabels, batchSize=BATCH_SIZE)"
   ]
  },
  {
   "cell_type": "code",
   "execution_count": 14,
   "metadata": {},
   "outputs": [],
   "source": [
    "# prepare test data\n",
    "testTokensIdx = prepare_data(testSub.sequence.values, maxLen=MAX_LEN)\n",
    "testData = create_data_loader(testTokensIdx, testLabels, batchSize=BATCH_SIZE)"
   ]
  },
  {
   "cell_type": "code",
   "execution_count": null,
   "metadata": {},
   "outputs": [],
   "source": []
  },
  {
   "cell_type": "markdown",
   "metadata": {},
   "source": [
    "## Deep learning models"
   ]
  },
  {
   "cell_type": "markdown",
   "metadata": {},
   "source": [
    "### vectorise the sequence by taking mean of all words from bert embedding"
   ]
  },
  {
   "cell_type": "code",
   "execution_count": null,
   "metadata": {},
   "outputs": [],
   "source": [
    "meanClassifier = MeanNNClassifier(nbLabels=NB_LABELS, nnHiddenSize=NN_HIDDEN_SIZE)\n",
    "meanClassifier, optimizer, scheduler = initialize_classifier(meanClassifier,\n",
    "                                                             batchSize=BATCH_SIZE,\n",
    "                                                             epochs=NB_EPOCHS)"
   ]
  },
  {
   "cell_type": "code",
   "execution_count": null,
   "metadata": {},
   "outputs": [],
   "source": [
    "train_model(meanClassifier, optimizer, scheduler, trainData, testData)"
   ]
  },
  {
   "cell_type": "code",
   "execution_count": null,
   "metadata": {},
   "outputs": [],
   "source": []
  },
  {
   "cell_type": "markdown",
   "metadata": {},
   "source": [
    "### represent the sequence by the last hidden state of an LSTM"
   ]
  },
  {
   "cell_type": "code",
   "execution_count": 15,
   "metadata": {},
   "outputs": [
    {
     "name": "stderr",
     "output_type": "stream",
     "text": [
      "100%|██████████| 567/567 [00:00<00:00, 118517.41B/s]\n",
      "100%|██████████| 370264230/370264230 [00:47<00:00, 7803747.24B/s] \n"
     ]
    }
   ],
   "source": [
    "lstmClassifier = LstmNNClassifier(nbLabels=NB_LABELS, nnHiddenSize=NN_HIDDEN_SIZE,\n",
    "                                  lstmHiddenSize=500)\n",
    "lstmClassifier, optimizer, scheduler = initialize_classifier(lstmClassifier,\n",
    "                                                             batchSize=BATCH_SIZE,\n",
    "                                                             epochs=NB_EPOCHS)"
   ]
  },
  {
   "cell_type": "code",
   "execution_count": 16,
   "metadata": {
    "scrolled": true
   },
   "outputs": [
    {
     "name": "stdout",
     "output_type": "stream",
     "text": [
      "Start training...\n",
      "\n",
      " Epoch  |  Batch  |  Train Loss  |  Val Loss  |  Val Acc  |  Elapsed \n",
      "----------------------------------------------------------------------\n",
      "   1    |   10    |   2.300053   |     -      |     -     |  260.79  \n",
      "   1    |   20    |   2.291721   |     -      |     -     |  241.51  \n",
      "   1    |   30    |   2.291488   |     -      |     -     |  265.87  \n",
      "   1    |   40    |   2.287117   |     -      |     -     |  596.98  \n",
      "   1    |   50    |   2.288307   |     -      |     -     |  237.62  \n",
      "   1    |   60    |   2.276187   |     -      |     -     |  240.20  \n",
      "   1    |   70    |   2.283416   |     -      |     -     |  240.09  \n",
      "   1    |   80    |   2.263982   |     -      |     -     |  236.07  \n",
      "   1    |   90    |   2.262642   |     -      |     -     |  240.41  \n",
      "   1    |   100   |   2.270820   |     -      |     -     |  239.50  \n",
      "   1    |   110   |   2.280418   |     -      |     -     |  266.07  \n",
      "   1    |   120   |   2.268796   |     -      |     -     |  236.83  \n",
      "   1    |   130   |   2.263921   |     -      |     -     |  236.61  \n",
      "   1    |   140   |   2.278112   |     -      |     -     |  238.77  \n",
      "   1    |   150   |   2.267263   |     -      |     -     |  236.28  \n",
      "   1    |   160   |   2.258800   |     -      |     -     |  234.96  \n",
      "   1    |   170   |   2.280876   |     -      |     -     |  239.43  \n",
      "   1    |   180   |   2.263072   |     -      |     -     |  241.88  \n",
      "   1    |   190   |   2.266160   |     -      |     -     |  238.69  \n",
      "   1    |   200   |   2.281175   |     -      |     -     |  240.19  \n",
      "   1    |   210   |   2.270183   |     -      |     -     |  238.46  \n",
      "   1    |   220   |   2.269183   |     -      |     -     |  235.43  \n",
      "   1    |   230   |   2.278502   |     -      |     -     |  238.13  \n",
      "   1    |   240   |   2.277309   |     -      |     -     |  236.65  \n",
      "   1    |   250   |   2.274965   |     -      |     -     |  238.69  \n",
      "   1    |   260   |   2.277383   |     -      |     -     |  235.19  \n",
      "   1    |   270   |   2.266645   |     -      |     -     |  238.34  \n",
      "   1    |   280   |   2.270652   |     -      |     -     |  234.55  \n",
      "   1    |   290   |   2.277702   |     -      |     -     |  238.05  \n",
      "   1    |   300   |   2.255011   |     -      |     -     |  236.63  \n",
      "   1    |   310   |   2.283061   |     -      |     -     |  235.50  \n",
      "   1    |   320   |   2.277174   |     -      |     -     |  240.87  \n",
      "   1    |   330   |   2.278647   |     -      |     -     |  238.22  \n",
      "   1    |   340   |   2.268929   |     -      |     -     |  244.81  \n",
      "   1    |   350   |   2.274762   |     -      |     -     |  238.74  \n",
      "   1    |   360   |   2.261283   |     -      |     -     |  238.09  \n",
      "   1    |   370   |   2.269980   |     -      |     -     |  236.31  \n",
      "   1    |   380   |   2.279166   |     -      |     -     |  237.79  \n",
      "   1    |   390   |   2.264405   |     -      |     -     |  238.55  \n",
      "   1    |   400   |   2.270823   |     -      |     -     |  235.13  \n",
      "   1    |   410   |   2.276093   |     -      |     -     |  236.14  \n",
      "   1    |   420   |   2.275856   |     -      |     -     |  238.68  \n",
      "   1    |   430   |   2.264508   |     -      |     -     |  239.14  \n",
      "   1    |   440   |   2.269457   |     -      |     -     |  236.82  \n",
      "   1    |   450   |   2.268080   |     -      |     -     |  236.58  \n",
      "   1    |   460   |   2.270907   |     -      |     -     |  243.98  \n",
      "   1    |   470   |   2.278759   |     -      |     -     |  241.88  \n",
      "   1    |   480   |   2.274405   |     -      |     -     |  240.67  \n",
      "   1    |   490   |   2.268371   |     -      |     -     |  245.16  \n",
      "   1    |   500   |   2.276629   |     -      |     -     |  236.49  \n",
      "   1    |   510   |   2.270357   |     -      |     -     |  236.39  \n",
      "   1    |   520   |   2.275425   |     -      |     -     |  237.84  \n",
      "   1    |   530   |   2.276244   |     -      |     -     |  216.67  \n",
      "----------------------------------------------------------------------\n",
      "   1    |    -    |   2.273921   |  2.271121  |   20.90   | 14485.53 \n",
      "----------------------------------------------------------------------\n",
      "\n",
      "\n",
      " Epoch  |  Batch  |  Train Loss  |  Val Loss  |  Val Acc  |  Elapsed \n",
      "----------------------------------------------------------------------\n",
      "   2    |   10    |   2.263631   |     -      |     -     |  260.97  \n",
      "   2    |   20    |   2.270753   |     -      |     -     |  239.99  \n",
      "   2    |   30    |   2.270445   |     -      |     -     |  238.88  \n",
      "   2    |   40    |   2.272358   |     -      |     -     |  238.28  \n",
      "   2    |   50    |   2.276415   |     -      |     -     |  244.19  \n",
      "   2    |   60    |   2.262220   |     -      |     -     |  241.87  \n",
      "   2    |   70    |   2.277542   |     -      |     -     |  239.62  \n",
      "   2    |   80    |   2.278034   |     -      |     -     |  234.77  \n",
      "   2    |   90    |   2.263651   |     -      |     -     |  234.59  \n",
      "   2    |   100   |   2.266748   |     -      |     -     |  238.42  \n",
      "   2    |   110   |   2.276720   |     -      |     -     |  240.04  \n",
      "   2    |   120   |   2.272688   |     -      |     -     |  238.76  \n",
      "   2    |   130   |   2.265220   |     -      |     -     |  236.07  \n",
      "   2    |   140   |   2.277440   |     -      |     -     |  241.44  \n",
      "   2    |   150   |   2.260836   |     -      |     -     |  240.77  \n",
      "   2    |   160   |   2.267760   |     -      |     -     |  242.79  \n",
      "   2    |   170   |   2.283793   |     -      |     -     |  237.63  \n",
      "   2    |   180   |   2.282278   |     -      |     -     |  242.15  \n",
      "   2    |   190   |   2.265011   |     -      |     -     |  240.70  \n",
      "   2    |   200   |   2.260428   |     -      |     -     |  242.79  \n",
      "   2    |   210   |   2.260336   |     -      |     -     |  250.10  \n",
      "   2    |   220   |   2.262388   |     -      |     -     |  242.88  \n",
      "   2    |   230   |   2.271024   |     -      |     -     |  239.67  \n",
      "   2    |   240   |   2.275892   |     -      |     -     |  240.05  \n",
      "   2    |   250   |   2.272239   |     -      |     -     |  238.31  \n",
      "   2    |   260   |   2.271644   |     -      |     -     |  239.84  \n",
      "   2    |   270   |   2.280634   |     -      |     -     |  236.58  \n",
      "   2    |   280   |   2.267646   |     -      |     -     |  242.31  \n",
      "   2    |   290   |   2.280603   |     -      |     -     |  237.47  \n",
      "   2    |   300   |   2.264963   |     -      |     -     |  237.16  \n",
      "   2    |   310   |   2.264292   |     -      |     -     |  240.36  \n",
      "   2    |   320   |   2.282234   |     -      |     -     |  237.77  \n",
      "   2    |   330   |   2.262032   |     -      |     -     |  238.57  \n",
      "   2    |   340   |   2.268581   |     -      |     -     |  239.32  \n",
      "   2    |   350   |   2.270669   |     -      |     -     |  245.06  \n",
      "   2    |   360   |   2.270801   |     -      |     -     |  239.63  \n",
      "   2    |   370   |   2.273817   |     -      |     -     |  241.71  \n",
      "   2    |   380   |   2.264854   |     -      |     -     |  237.09  \n",
      "   2    |   390   |   2.278234   |     -      |     -     |  238.91  \n",
      "   2    |   400   |   2.262445   |     -      |     -     |  242.66  \n",
      "   2    |   410   |   2.280854   |     -      |     -     |  244.46  \n",
      "   2    |   420   |   2.269525   |     -      |     -     |  245.57  \n",
      "   2    |   430   |   2.266307   |     -      |     -     |  238.66  \n",
      "   2    |   440   |   2.274258   |     -      |     -     |  239.44  \n",
      "   2    |   450   |   2.256707   |     -      |     -     |  240.57  \n",
      "   2    |   460   |   2.270534   |     -      |     -     |  241.18  \n",
      "   2    |   470   |   2.282477   |     -      |     -     |  239.10  \n",
      "   2    |   480   |   2.275741   |     -      |     -     |  238.96  \n",
      "   2    |   490   |   2.265834   |     -      |     -     |  239.81  \n",
      "   2    |   500   |   2.270738   |     -      |     -     |  236.92  \n",
      "   2    |   510   |   2.276105   |     -      |     -     |  240.63  \n",
      "   2    |   520   |   2.286330   |     -      |     -     |  238.76  \n",
      "   2    |   530   |   2.283183   |     -      |     -     |  218.54  \n",
      "----------------------------------------------------------------------\n",
      "   2    |    -    |   2.271267   |  2.267292  |   21.36   | 14116.27 \n",
      "----------------------------------------------------------------------\n",
      "\n",
      "\n",
      " Epoch  |  Batch  |  Train Loss  |  Val Loss  |  Val Acc  |  Elapsed \n",
      "----------------------------------------------------------------------\n"
     ]
    },
    {
     "name": "stdout",
     "output_type": "stream",
     "text": [
      "   3    |   10    |   2.283855   |     -      |     -     |  262.27  \n",
      "   3    |   20    |   2.275361   |     -      |     -     |  239.39  \n",
      "   3    |   30    |   2.273748   |     -      |     -     |  239.89  \n",
      "   3    |   40    |   2.259929   |     -      |     -     |  238.97  \n",
      "   3    |   50    |   2.272264   |     -      |     -     |  235.61  \n",
      "   3    |   60    |   2.263865   |     -      |     -     |  242.23  \n",
      "   3    |   70    |   2.263860   |     -      |     -     |  236.94  \n",
      "   3    |   80    |   2.276695   |     -      |     -     |  238.28  \n",
      "   3    |   90    |   2.279367   |     -      |     -     |  238.78  \n",
      "   3    |   100   |   2.268514   |     -      |     -     |  236.32  \n",
      "   3    |   110   |   2.272352   |     -      |     -     |  237.80  \n",
      "   3    |   120   |   2.276473   |     -      |     -     |  239.19  \n",
      "   3    |   130   |   2.278408   |     -      |     -     |  239.81  \n",
      "   3    |   140   |   2.263778   |     -      |     -     |  239.71  \n",
      "   3    |   150   |   2.278316   |     -      |     -     |  238.53  \n",
      "   3    |   160   |   2.265588   |     -      |     -     |  239.00  \n",
      "   3    |   170   |   2.290338   |     -      |     -     |  241.83  \n",
      "   3    |   180   |   2.278328   |     -      |     -     |  241.03  \n",
      "   3    |   190   |   2.263626   |     -      |     -     |  238.66  \n",
      "   3    |   200   |   2.266935   |     -      |     -     |  237.08  \n",
      "   3    |   210   |   2.256033   |     -      |     -     |  238.98  \n",
      "   3    |   220   |   2.259502   |     -      |     -     |  239.85  \n",
      "   3    |   230   |   2.264095   |     -      |     -     |  239.54  \n",
      "   3    |   240   |   2.269161   |     -      |     -     |  240.14  \n",
      "   3    |   250   |   2.264723   |     -      |     -     |  241.12  \n",
      "   3    |   260   |   2.271304   |     -      |     -     |  241.83  \n",
      "   3    |   270   |   2.260174   |     -      |     -     |  239.37  \n",
      "   3    |   280   |   2.280420   |     -      |     -     |  242.96  \n",
      "   3    |   290   |   2.264800   |     -      |     -     |  238.11  \n",
      "   3    |   300   |   2.262048   |     -      |     -     |  238.56  \n",
      "   3    |   310   |   2.271803   |     -      |     -     |  247.11  \n"
     ]
    },
    {
     "ename": "KeyboardInterrupt",
     "evalue": "",
     "output_type": "error",
     "traceback": [
      "\u001b[0;31m---------------------------------------------------------------------------\u001b[0m",
      "\u001b[0;31mKeyboardInterrupt\u001b[0m                         Traceback (most recent call last)",
      "Input \u001b[0;32mIn [16]\u001b[0m, in \u001b[0;36m<cell line: 1>\u001b[0;34m()\u001b[0m\n\u001b[0;32m----> 1\u001b[0m \u001b[43mtrain_model\u001b[49m\u001b[43m(\u001b[49m\u001b[43mlstmClassifier\u001b[49m\u001b[43m,\u001b[49m\u001b[43m \u001b[49m\u001b[43moptimizer\u001b[49m\u001b[43m,\u001b[49m\u001b[43m \u001b[49m\u001b[43mscheduler\u001b[49m\u001b[43m,\u001b[49m\u001b[43m \u001b[49m\u001b[43mtrainData\u001b[49m\u001b[43m,\u001b[49m\u001b[43m \u001b[49m\u001b[43mtestData\u001b[49m\u001b[43m)\u001b[49m\n",
      "File \u001b[0;32m~/Workdir/python/code/pkg/Models.py:236\u001b[0m, in \u001b[0;36mtrain_model\u001b[0;34m(model, optimizer, scheduler, trainData, valData, epochs)\u001b[0m\n\u001b[1;32m    233\u001b[0m model\u001b[38;5;241m.\u001b[39mzero_grad()\n\u001b[1;32m    235\u001b[0m \u001b[38;5;66;03m# Perform a forward pass. This will return res.\u001b[39;00m\n\u001b[0;32m--> 236\u001b[0m res \u001b[38;5;241m=\u001b[39m \u001b[43mmodel\u001b[49m\u001b[43m(\u001b[49m\u001b[43mbatchIdx\u001b[49m\u001b[43m)\u001b[49m\n\u001b[1;32m    238\u001b[0m \u001b[38;5;66;03m# Compute loss and accumulate the loss values\u001b[39;00m\n\u001b[1;32m    239\u001b[0m loss \u001b[38;5;241m=\u001b[39m compute_cross_entropy(res, batchLabels)\n",
      "File \u001b[0;32m/opt/py3/lib/python3.8/site-packages/torch/nn/modules/module.py:1102\u001b[0m, in \u001b[0;36mModule._call_impl\u001b[0;34m(self, *input, **kwargs)\u001b[0m\n\u001b[1;32m   1098\u001b[0m \u001b[38;5;66;03m# If we don't have any hooks, we want to skip the rest of the logic in\u001b[39;00m\n\u001b[1;32m   1099\u001b[0m \u001b[38;5;66;03m# this function, and just call forward.\u001b[39;00m\n\u001b[1;32m   1100\u001b[0m \u001b[38;5;28;01mif\u001b[39;00m \u001b[38;5;129;01mnot\u001b[39;00m (\u001b[38;5;28mself\u001b[39m\u001b[38;5;241m.\u001b[39m_backward_hooks \u001b[38;5;129;01mor\u001b[39;00m \u001b[38;5;28mself\u001b[39m\u001b[38;5;241m.\u001b[39m_forward_hooks \u001b[38;5;129;01mor\u001b[39;00m \u001b[38;5;28mself\u001b[39m\u001b[38;5;241m.\u001b[39m_forward_pre_hooks \u001b[38;5;129;01mor\u001b[39;00m _global_backward_hooks\n\u001b[1;32m   1101\u001b[0m         \u001b[38;5;129;01mor\u001b[39;00m _global_forward_hooks \u001b[38;5;129;01mor\u001b[39;00m _global_forward_pre_hooks):\n\u001b[0;32m-> 1102\u001b[0m     \u001b[38;5;28;01mreturn\u001b[39;00m \u001b[43mforward_call\u001b[49m\u001b[43m(\u001b[49m\u001b[38;5;241;43m*\u001b[39;49m\u001b[38;5;28;43minput\u001b[39;49m\u001b[43m,\u001b[49m\u001b[43m \u001b[49m\u001b[38;5;241;43m*\u001b[39;49m\u001b[38;5;241;43m*\u001b[39;49m\u001b[43mkwargs\u001b[49m\u001b[43m)\u001b[49m\n\u001b[1;32m   1103\u001b[0m \u001b[38;5;66;03m# Do not call functions when jit is used\u001b[39;00m\n\u001b[1;32m   1104\u001b[0m full_backward_hooks, non_full_backward_hooks \u001b[38;5;241m=\u001b[39m [], []\n",
      "File \u001b[0;32m~/Workdir/python/code/pkg/Models.py:75\u001b[0m, in \u001b[0;36mNNClassifier.forward\u001b[0;34m(self, tokenIdx)\u001b[0m\n\u001b[1;32m     66\u001b[0m \u001b[38;5;28;01mdef\u001b[39;00m \u001b[38;5;21mforward\u001b[39m(\u001b[38;5;28mself\u001b[39m, tokenIdx):\n\u001b[1;32m     67\u001b[0m     \u001b[38;5;124;03m\"\"\"\u001b[39;00m\n\u001b[1;32m     68\u001b[0m \u001b[38;5;124;03m    Feed input to BERT and the classifier to compute logits.\u001b[39;00m\n\u001b[1;32m     69\u001b[0m \u001b[38;5;124;03m    INPUT\u001b[39;00m\n\u001b[0;32m   (...)\u001b[0m\n\u001b[1;32m     73\u001b[0m \u001b[38;5;124;03m    res (torch.Tensor): an output tensor with shape (batchSize, nbLabels)\u001b[39;00m\n\u001b[1;32m     74\u001b[0m \u001b[38;5;124;03m    \"\"\"\u001b[39;00m\n\u001b[0;32m---> 75\u001b[0m     sequenceRepresentation \u001b[38;5;241m=\u001b[39m \u001b[38;5;28;43mself\u001b[39;49m\u001b[38;5;241;43m.\u001b[39;49m\u001b[43mrepresent_sequence\u001b[49m\u001b[43m(\u001b[49m\u001b[43mtokenIdx\u001b[49m\u001b[43m)\u001b[49m\n\u001b[1;32m     76\u001b[0m     \u001b[38;5;66;03m# Feed input to classifier to compute prediction result\u001b[39;00m\n\u001b[1;32m     77\u001b[0m     res \u001b[38;5;241m=\u001b[39m \u001b[38;5;28mself\u001b[39m\u001b[38;5;241m.\u001b[39mclassifier(sequenceRepresentation)\n",
      "File \u001b[0;32m~/Workdir/python/code/pkg/Models.py:139\u001b[0m, in \u001b[0;36mLstmNNClassifier.represent_sequence\u001b[0;34m(self, tokenIdx)\u001b[0m\n\u001b[1;32m    137\u001b[0m \u001b[38;5;28;01mdef\u001b[39;00m \u001b[38;5;21mrepresent_sequence\u001b[39m(\u001b[38;5;28mself\u001b[39m, tokenIdx):\n\u001b[1;32m    138\u001b[0m     \u001b[38;5;66;03m# Feed input to BERT => embedded sequence of shape (batch size, sequence length + 2, 768)\u001b[39;00m\n\u001b[0;32m--> 139\u001b[0m     bertOutput \u001b[38;5;241m=\u001b[39m \u001b[38;5;28;43mself\u001b[39;49m\u001b[38;5;241;43m.\u001b[39;49m\u001b[43mbert\u001b[49m\u001b[43m(\u001b[49m\u001b[43mtokenIdx\u001b[49m\u001b[43m)\u001b[49m[\u001b[38;5;241m0\u001b[39m]\n\u001b[1;32m    140\u001b[0m     representationModel \u001b[38;5;241m=\u001b[39m nn\u001b[38;5;241m.\u001b[39mSequential(\n\u001b[1;32m    141\u001b[0m         \u001b[38;5;66;03m# 768 = embedding dim of bert\u001b[39;00m\n\u001b[1;32m    142\u001b[0m         nn\u001b[38;5;241m.\u001b[39mLSTM(\u001b[38;5;241m768\u001b[39m, \u001b[38;5;28mself\u001b[39m\u001b[38;5;241m.\u001b[39mlstmHiddenSize, num_layers\u001b[38;5;241m=\u001b[39m\u001b[38;5;241m1\u001b[39m, bias\u001b[38;5;241m=\u001b[39m\u001b[38;5;28;01mTrue\u001b[39;00m, bidirectional\u001b[38;5;241m=\u001b[39m\u001b[38;5;28;01mFalse\u001b[39;00m, batch_first\u001b[38;5;241m=\u001b[39m\u001b[38;5;28;01mTrue\u001b[39;00m)\n\u001b[1;32m    143\u001b[0m     )\n\u001b[1;32m    144\u001b[0m     _,(representation,_) \u001b[38;5;241m=\u001b[39m representationModel(bertOutput) \u001b[38;5;66;03m# shape(representation) = (1, batch size, hidden state size)\u001b[39;00m\n",
      "File \u001b[0;32m/opt/py3/lib/python3.8/site-packages/torch/nn/modules/module.py:1102\u001b[0m, in \u001b[0;36mModule._call_impl\u001b[0;34m(self, *input, **kwargs)\u001b[0m\n\u001b[1;32m   1098\u001b[0m \u001b[38;5;66;03m# If we don't have any hooks, we want to skip the rest of the logic in\u001b[39;00m\n\u001b[1;32m   1099\u001b[0m \u001b[38;5;66;03m# this function, and just call forward.\u001b[39;00m\n\u001b[1;32m   1100\u001b[0m \u001b[38;5;28;01mif\u001b[39;00m \u001b[38;5;129;01mnot\u001b[39;00m (\u001b[38;5;28mself\u001b[39m\u001b[38;5;241m.\u001b[39m_backward_hooks \u001b[38;5;129;01mor\u001b[39;00m \u001b[38;5;28mself\u001b[39m\u001b[38;5;241m.\u001b[39m_forward_hooks \u001b[38;5;129;01mor\u001b[39;00m \u001b[38;5;28mself\u001b[39m\u001b[38;5;241m.\u001b[39m_forward_pre_hooks \u001b[38;5;129;01mor\u001b[39;00m _global_backward_hooks\n\u001b[1;32m   1101\u001b[0m         \u001b[38;5;129;01mor\u001b[39;00m _global_forward_hooks \u001b[38;5;129;01mor\u001b[39;00m _global_forward_pre_hooks):\n\u001b[0;32m-> 1102\u001b[0m     \u001b[38;5;28;01mreturn\u001b[39;00m \u001b[43mforward_call\u001b[49m\u001b[43m(\u001b[49m\u001b[38;5;241;43m*\u001b[39;49m\u001b[38;5;28;43minput\u001b[39;49m\u001b[43m,\u001b[49m\u001b[43m \u001b[49m\u001b[38;5;241;43m*\u001b[39;49m\u001b[38;5;241;43m*\u001b[39;49m\u001b[43mkwargs\u001b[49m\u001b[43m)\u001b[49m\n\u001b[1;32m   1103\u001b[0m \u001b[38;5;66;03m# Do not call functions when jit is used\u001b[39;00m\n\u001b[1;32m   1104\u001b[0m full_backward_hooks, non_full_backward_hooks \u001b[38;5;241m=\u001b[39m [], []\n",
      "File \u001b[0;32m/opt/py3/lib/python3.8/site-packages/tape/models/modeling_bert.py:447\u001b[0m, in \u001b[0;36mProteinBertModel.forward\u001b[0;34m(self, input_ids, input_mask)\u001b[0m\n\u001b[1;32m    444\u001b[0m extended_attention_mask \u001b[38;5;241m=\u001b[39m (\u001b[38;5;241m1.0\u001b[39m \u001b[38;5;241m-\u001b[39m extended_attention_mask) \u001b[38;5;241m*\u001b[39m \u001b[38;5;241m-\u001b[39m\u001b[38;5;241m10000.0\u001b[39m\n\u001b[1;32m    446\u001b[0m embedding_output \u001b[38;5;241m=\u001b[39m \u001b[38;5;28mself\u001b[39m\u001b[38;5;241m.\u001b[39membeddings(input_ids)\n\u001b[0;32m--> 447\u001b[0m encoder_outputs \u001b[38;5;241m=\u001b[39m \u001b[38;5;28;43mself\u001b[39;49m\u001b[38;5;241;43m.\u001b[39;49m\u001b[43mencoder\u001b[49m\u001b[43m(\u001b[49m\u001b[43membedding_output\u001b[49m\u001b[43m,\u001b[49m\n\u001b[1;32m    448\u001b[0m \u001b[43m                               \u001b[49m\u001b[43mextended_attention_mask\u001b[49m\u001b[43m,\u001b[49m\n\u001b[1;32m    449\u001b[0m \u001b[43m                               \u001b[49m\u001b[43mchunks\u001b[49m\u001b[38;5;241;43m=\u001b[39;49m\u001b[38;5;28;43;01mNone\u001b[39;49;00m\u001b[43m)\u001b[49m\n\u001b[1;32m    450\u001b[0m sequence_output \u001b[38;5;241m=\u001b[39m encoder_outputs[\u001b[38;5;241m0\u001b[39m]\n\u001b[1;32m    451\u001b[0m pooled_output \u001b[38;5;241m=\u001b[39m \u001b[38;5;28mself\u001b[39m\u001b[38;5;241m.\u001b[39mpooler(sequence_output)\n",
      "File \u001b[0;32m/opt/py3/lib/python3.8/site-packages/torch/nn/modules/module.py:1102\u001b[0m, in \u001b[0;36mModule._call_impl\u001b[0;34m(self, *input, **kwargs)\u001b[0m\n\u001b[1;32m   1098\u001b[0m \u001b[38;5;66;03m# If we don't have any hooks, we want to skip the rest of the logic in\u001b[39;00m\n\u001b[1;32m   1099\u001b[0m \u001b[38;5;66;03m# this function, and just call forward.\u001b[39;00m\n\u001b[1;32m   1100\u001b[0m \u001b[38;5;28;01mif\u001b[39;00m \u001b[38;5;129;01mnot\u001b[39;00m (\u001b[38;5;28mself\u001b[39m\u001b[38;5;241m.\u001b[39m_backward_hooks \u001b[38;5;129;01mor\u001b[39;00m \u001b[38;5;28mself\u001b[39m\u001b[38;5;241m.\u001b[39m_forward_hooks \u001b[38;5;129;01mor\u001b[39;00m \u001b[38;5;28mself\u001b[39m\u001b[38;5;241m.\u001b[39m_forward_pre_hooks \u001b[38;5;129;01mor\u001b[39;00m _global_backward_hooks\n\u001b[1;32m   1101\u001b[0m         \u001b[38;5;129;01mor\u001b[39;00m _global_forward_hooks \u001b[38;5;129;01mor\u001b[39;00m _global_forward_pre_hooks):\n\u001b[0;32m-> 1102\u001b[0m     \u001b[38;5;28;01mreturn\u001b[39;00m \u001b[43mforward_call\u001b[49m\u001b[43m(\u001b[49m\u001b[38;5;241;43m*\u001b[39;49m\u001b[38;5;28;43minput\u001b[39;49m\u001b[43m,\u001b[49m\u001b[43m \u001b[49m\u001b[38;5;241;43m*\u001b[39;49m\u001b[38;5;241;43m*\u001b[39;49m\u001b[43mkwargs\u001b[49m\u001b[43m)\u001b[49m\n\u001b[1;32m   1103\u001b[0m \u001b[38;5;66;03m# Do not call functions when jit is used\u001b[39;00m\n\u001b[1;32m   1104\u001b[0m full_backward_hooks, non_full_backward_hooks \u001b[38;5;241m=\u001b[39m [], []\n",
      "File \u001b[0;32m/opt/py3/lib/python3.8/site-packages/tape/models/modeling_bert.py:346\u001b[0m, in \u001b[0;36mProteinBertEncoder.forward\u001b[0;34m(self, hidden_states, attention_mask, chunks)\u001b[0m\n\u001b[1;32m    343\u001b[0m \u001b[38;5;28;01mif\u001b[39;00m \u001b[38;5;28mself\u001b[39m\u001b[38;5;241m.\u001b[39moutput_hidden_states:\n\u001b[1;32m    344\u001b[0m     all_hidden_states \u001b[38;5;241m=\u001b[39m all_hidden_states \u001b[38;5;241m+\u001b[39m (hidden_states,)\n\u001b[0;32m--> 346\u001b[0m layer_outputs \u001b[38;5;241m=\u001b[39m \u001b[43mlayer_module\u001b[49m\u001b[43m(\u001b[49m\u001b[43mhidden_states\u001b[49m\u001b[43m,\u001b[49m\u001b[43m \u001b[49m\u001b[43mattention_mask\u001b[49m\u001b[43m)\u001b[49m\n\u001b[1;32m    347\u001b[0m hidden_states \u001b[38;5;241m=\u001b[39m layer_outputs[\u001b[38;5;241m0\u001b[39m]\n\u001b[1;32m    349\u001b[0m \u001b[38;5;28;01mif\u001b[39;00m \u001b[38;5;28mself\u001b[39m\u001b[38;5;241m.\u001b[39moutput_attentions:\n",
      "File \u001b[0;32m/opt/py3/lib/python3.8/site-packages/torch/nn/modules/module.py:1102\u001b[0m, in \u001b[0;36mModule._call_impl\u001b[0;34m(self, *input, **kwargs)\u001b[0m\n\u001b[1;32m   1098\u001b[0m \u001b[38;5;66;03m# If we don't have any hooks, we want to skip the rest of the logic in\u001b[39;00m\n\u001b[1;32m   1099\u001b[0m \u001b[38;5;66;03m# this function, and just call forward.\u001b[39;00m\n\u001b[1;32m   1100\u001b[0m \u001b[38;5;28;01mif\u001b[39;00m \u001b[38;5;129;01mnot\u001b[39;00m (\u001b[38;5;28mself\u001b[39m\u001b[38;5;241m.\u001b[39m_backward_hooks \u001b[38;5;129;01mor\u001b[39;00m \u001b[38;5;28mself\u001b[39m\u001b[38;5;241m.\u001b[39m_forward_hooks \u001b[38;5;129;01mor\u001b[39;00m \u001b[38;5;28mself\u001b[39m\u001b[38;5;241m.\u001b[39m_forward_pre_hooks \u001b[38;5;129;01mor\u001b[39;00m _global_backward_hooks\n\u001b[1;32m   1101\u001b[0m         \u001b[38;5;129;01mor\u001b[39;00m _global_forward_hooks \u001b[38;5;129;01mor\u001b[39;00m _global_forward_pre_hooks):\n\u001b[0;32m-> 1102\u001b[0m     \u001b[38;5;28;01mreturn\u001b[39;00m \u001b[43mforward_call\u001b[49m\u001b[43m(\u001b[49m\u001b[38;5;241;43m*\u001b[39;49m\u001b[38;5;28;43minput\u001b[39;49m\u001b[43m,\u001b[49m\u001b[43m \u001b[49m\u001b[38;5;241;43m*\u001b[39;49m\u001b[38;5;241;43m*\u001b[39;49m\u001b[43mkwargs\u001b[49m\u001b[43m)\u001b[49m\n\u001b[1;32m   1103\u001b[0m \u001b[38;5;66;03m# Do not call functions when jit is used\u001b[39;00m\n\u001b[1;32m   1104\u001b[0m full_backward_hooks, non_full_backward_hooks \u001b[38;5;241m=\u001b[39m [], []\n",
      "File \u001b[0;32m/opt/py3/lib/python3.8/site-packages/tape/models/modeling_bert.py:287\u001b[0m, in \u001b[0;36mProteinBertLayer.forward\u001b[0;34m(self, hidden_states, attention_mask)\u001b[0m\n\u001b[1;32m    285\u001b[0m attention_outputs \u001b[38;5;241m=\u001b[39m \u001b[38;5;28mself\u001b[39m\u001b[38;5;241m.\u001b[39mattention(hidden_states, attention_mask)\n\u001b[1;32m    286\u001b[0m attention_output \u001b[38;5;241m=\u001b[39m attention_outputs[\u001b[38;5;241m0\u001b[39m]\n\u001b[0;32m--> 287\u001b[0m intermediate_output \u001b[38;5;241m=\u001b[39m \u001b[38;5;28;43mself\u001b[39;49m\u001b[38;5;241;43m.\u001b[39;49m\u001b[43mintermediate\u001b[49m\u001b[43m(\u001b[49m\u001b[43mattention_output\u001b[49m\u001b[43m)\u001b[49m\n\u001b[1;32m    288\u001b[0m layer_output \u001b[38;5;241m=\u001b[39m \u001b[38;5;28mself\u001b[39m\u001b[38;5;241m.\u001b[39moutput(intermediate_output, attention_output)\n\u001b[1;32m    289\u001b[0m outputs \u001b[38;5;241m=\u001b[39m (layer_output,) \u001b[38;5;241m+\u001b[39m attention_outputs[\u001b[38;5;241m1\u001b[39m:]  \u001b[38;5;66;03m# add attentions if we output them\u001b[39;00m\n",
      "File \u001b[0;32m/opt/py3/lib/python3.8/site-packages/torch/nn/modules/module.py:1102\u001b[0m, in \u001b[0;36mModule._call_impl\u001b[0;34m(self, *input, **kwargs)\u001b[0m\n\u001b[1;32m   1098\u001b[0m \u001b[38;5;66;03m# If we don't have any hooks, we want to skip the rest of the logic in\u001b[39;00m\n\u001b[1;32m   1099\u001b[0m \u001b[38;5;66;03m# this function, and just call forward.\u001b[39;00m\n\u001b[1;32m   1100\u001b[0m \u001b[38;5;28;01mif\u001b[39;00m \u001b[38;5;129;01mnot\u001b[39;00m (\u001b[38;5;28mself\u001b[39m\u001b[38;5;241m.\u001b[39m_backward_hooks \u001b[38;5;129;01mor\u001b[39;00m \u001b[38;5;28mself\u001b[39m\u001b[38;5;241m.\u001b[39m_forward_hooks \u001b[38;5;129;01mor\u001b[39;00m \u001b[38;5;28mself\u001b[39m\u001b[38;5;241m.\u001b[39m_forward_pre_hooks \u001b[38;5;129;01mor\u001b[39;00m _global_backward_hooks\n\u001b[1;32m   1101\u001b[0m         \u001b[38;5;129;01mor\u001b[39;00m _global_forward_hooks \u001b[38;5;129;01mor\u001b[39;00m _global_forward_pre_hooks):\n\u001b[0;32m-> 1102\u001b[0m     \u001b[38;5;28;01mreturn\u001b[39;00m \u001b[43mforward_call\u001b[49m\u001b[43m(\u001b[49m\u001b[38;5;241;43m*\u001b[39;49m\u001b[38;5;28;43minput\u001b[39;49m\u001b[43m,\u001b[49m\u001b[43m \u001b[49m\u001b[38;5;241;43m*\u001b[39;49m\u001b[38;5;241;43m*\u001b[39;49m\u001b[43mkwargs\u001b[49m\u001b[43m)\u001b[49m\n\u001b[1;32m   1103\u001b[0m \u001b[38;5;66;03m# Do not call functions when jit is used\u001b[39;00m\n\u001b[1;32m   1104\u001b[0m full_backward_hooks, non_full_backward_hooks \u001b[38;5;241m=\u001b[39m [], []\n",
      "File \u001b[0;32m/opt/py3/lib/python3.8/site-packages/tape/models/modeling_bert.py:258\u001b[0m, in \u001b[0;36mProteinBertIntermediate.forward\u001b[0;34m(self, hidden_states)\u001b[0m\n\u001b[1;32m    257\u001b[0m \u001b[38;5;28;01mdef\u001b[39;00m \u001b[38;5;21mforward\u001b[39m(\u001b[38;5;28mself\u001b[39m, hidden_states):\n\u001b[0;32m--> 258\u001b[0m     hidden_states \u001b[38;5;241m=\u001b[39m \u001b[38;5;28;43mself\u001b[39;49m\u001b[38;5;241;43m.\u001b[39;49m\u001b[43mdense\u001b[49m\u001b[43m(\u001b[49m\u001b[43mhidden_states\u001b[49m\u001b[43m)\u001b[49m\n\u001b[1;32m    259\u001b[0m     hidden_states \u001b[38;5;241m=\u001b[39m \u001b[38;5;28mself\u001b[39m\u001b[38;5;241m.\u001b[39mintermediate_act_fn(hidden_states)\n\u001b[1;32m    260\u001b[0m     \u001b[38;5;28;01mreturn\u001b[39;00m hidden_states\n",
      "File \u001b[0;32m/opt/py3/lib/python3.8/site-packages/torch/nn/modules/module.py:1102\u001b[0m, in \u001b[0;36mModule._call_impl\u001b[0;34m(self, *input, **kwargs)\u001b[0m\n\u001b[1;32m   1098\u001b[0m \u001b[38;5;66;03m# If we don't have any hooks, we want to skip the rest of the logic in\u001b[39;00m\n\u001b[1;32m   1099\u001b[0m \u001b[38;5;66;03m# this function, and just call forward.\u001b[39;00m\n\u001b[1;32m   1100\u001b[0m \u001b[38;5;28;01mif\u001b[39;00m \u001b[38;5;129;01mnot\u001b[39;00m (\u001b[38;5;28mself\u001b[39m\u001b[38;5;241m.\u001b[39m_backward_hooks \u001b[38;5;129;01mor\u001b[39;00m \u001b[38;5;28mself\u001b[39m\u001b[38;5;241m.\u001b[39m_forward_hooks \u001b[38;5;129;01mor\u001b[39;00m \u001b[38;5;28mself\u001b[39m\u001b[38;5;241m.\u001b[39m_forward_pre_hooks \u001b[38;5;129;01mor\u001b[39;00m _global_backward_hooks\n\u001b[1;32m   1101\u001b[0m         \u001b[38;5;129;01mor\u001b[39;00m _global_forward_hooks \u001b[38;5;129;01mor\u001b[39;00m _global_forward_pre_hooks):\n\u001b[0;32m-> 1102\u001b[0m     \u001b[38;5;28;01mreturn\u001b[39;00m \u001b[43mforward_call\u001b[49m\u001b[43m(\u001b[49m\u001b[38;5;241;43m*\u001b[39;49m\u001b[38;5;28;43minput\u001b[39;49m\u001b[43m,\u001b[49m\u001b[43m \u001b[49m\u001b[38;5;241;43m*\u001b[39;49m\u001b[38;5;241;43m*\u001b[39;49m\u001b[43mkwargs\u001b[49m\u001b[43m)\u001b[49m\n\u001b[1;32m   1103\u001b[0m \u001b[38;5;66;03m# Do not call functions when jit is used\u001b[39;00m\n\u001b[1;32m   1104\u001b[0m full_backward_hooks, non_full_backward_hooks \u001b[38;5;241m=\u001b[39m [], []\n",
      "File \u001b[0;32m/opt/py3/lib/python3.8/site-packages/torch/nn/modules/linear.py:103\u001b[0m, in \u001b[0;36mLinear.forward\u001b[0;34m(self, input)\u001b[0m\n\u001b[1;32m    102\u001b[0m \u001b[38;5;28;01mdef\u001b[39;00m \u001b[38;5;21mforward\u001b[39m(\u001b[38;5;28mself\u001b[39m, \u001b[38;5;28minput\u001b[39m: Tensor) \u001b[38;5;241m-\u001b[39m\u001b[38;5;241m>\u001b[39m Tensor:\n\u001b[0;32m--> 103\u001b[0m     \u001b[38;5;28;01mreturn\u001b[39;00m \u001b[43mF\u001b[49m\u001b[38;5;241;43m.\u001b[39;49m\u001b[43mlinear\u001b[49m\u001b[43m(\u001b[49m\u001b[38;5;28;43minput\u001b[39;49m\u001b[43m,\u001b[49m\u001b[43m \u001b[49m\u001b[38;5;28;43mself\u001b[39;49m\u001b[38;5;241;43m.\u001b[39;49m\u001b[43mweight\u001b[49m\u001b[43m,\u001b[49m\u001b[43m \u001b[49m\u001b[38;5;28;43mself\u001b[39;49m\u001b[38;5;241;43m.\u001b[39;49m\u001b[43mbias\u001b[49m\u001b[43m)\u001b[49m\n",
      "File \u001b[0;32m/opt/py3/lib/python3.8/site-packages/torch/nn/functional.py:1848\u001b[0m, in \u001b[0;36mlinear\u001b[0;34m(input, weight, bias)\u001b[0m\n\u001b[1;32m   1846\u001b[0m \u001b[38;5;28;01mif\u001b[39;00m has_torch_function_variadic(\u001b[38;5;28minput\u001b[39m, weight, bias):\n\u001b[1;32m   1847\u001b[0m     \u001b[38;5;28;01mreturn\u001b[39;00m handle_torch_function(linear, (\u001b[38;5;28minput\u001b[39m, weight, bias), \u001b[38;5;28minput\u001b[39m, weight, bias\u001b[38;5;241m=\u001b[39mbias)\n\u001b[0;32m-> 1848\u001b[0m \u001b[38;5;28;01mreturn\u001b[39;00m \u001b[43mtorch\u001b[49m\u001b[38;5;241;43m.\u001b[39;49m\u001b[43m_C\u001b[49m\u001b[38;5;241;43m.\u001b[39;49m\u001b[43m_nn\u001b[49m\u001b[38;5;241;43m.\u001b[39;49m\u001b[43mlinear\u001b[49m\u001b[43m(\u001b[49m\u001b[38;5;28;43minput\u001b[39;49m\u001b[43m,\u001b[49m\u001b[43m \u001b[49m\u001b[43mweight\u001b[49m\u001b[43m,\u001b[49m\u001b[43m \u001b[49m\u001b[43mbias\u001b[49m\u001b[43m)\u001b[49m\n",
      "\u001b[0;31mKeyboardInterrupt\u001b[0m: "
     ]
    }
   ],
   "source": [
    "train_model(lstmClassifier, optimizer, scheduler, trainData, testData)"
   ]
  },
  {
   "cell_type": "code",
   "execution_count": null,
   "metadata": {},
   "outputs": [],
   "source": []
  },
  {
   "cell_type": "code",
   "execution_count": null,
   "metadata": {},
   "outputs": [],
   "source": []
  },
  {
   "cell_type": "markdown",
   "metadata": {},
   "source": [
    "### represent the sequence by an 1D-CNN + Max pooling"
   ]
  },
  {
   "cell_type": "code",
   "execution_count": null,
   "metadata": {},
   "outputs": [],
   "source": [
    "cnnClassifier = CnnNNClassifier(nbLabels=NB_LABELS, sequenceLen=MAX_LEN, nnHiddenSize=NN_HIDDEN_SIZE,\n",
    "                                nbKernels=300, kernelSize=3)\n",
    "cnnClassifier, optimizer, scheduler = initialize_classifier(cnnClassifier,\n",
    "                                                            batchSize=BATCH_SIZE,\n",
    "                                                            epochs=NB_EPOCHS)"
   ]
  },
  {
   "cell_type": "code",
   "execution_count": null,
   "metadata": {},
   "outputs": [],
   "source": [
    "train_model(cnnClassifier, optimizer, scheduler, trainData, testData)"
   ]
  },
  {
   "cell_type": "markdown",
   "metadata": {},
   "source": [
    "The main obstacle for me to complete the study is mainly the number of parametres to be learned compare to the data availability. Let's take a closer look at the first senario, where no parametres to be learned for sequence representation. To train a 1-hidden-layer dense neural network, whose input dimension is 768 and output dimension is about $O(1e5)$, or $O(1e3)$ if we add some constraints on class population. Suppose the hidden layer is of dimension of $O(1e3)$, that gives $768 \\times 1000 + 1000 \\times 1000 = O(1e6)$ trainable model parametres (Note that the training set in its totality contains \"merely\" about $1e6$ records). Not only it demands powerful computational capacity, but also huge amount of labeled training data to have the model be reasonably trained. Let alone the two remaining senarios where even more parametres are needed for the sequence representation. The huge liberty degree of the models can result training failures."
   ]
  }
 ],
 "metadata": {
  "kernelspec": {
   "display_name": "Python 3",
   "language": "python",
   "name": "python3"
  },
  "language_info": {
   "codemirror_mode": {
    "name": "ipython",
    "version": 3
   },
   "file_extension": ".py",
   "mimetype": "text/x-python",
   "name": "python",
   "nbconvert_exporter": "python",
   "pygments_lexer": "ipython3",
   "version": "3.8.7"
  }
 },
 "nbformat": 4,
 "nbformat_minor": 4
}
